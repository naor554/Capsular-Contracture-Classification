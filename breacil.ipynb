{
 "cells": [
  {
   "metadata": {},
   "cell_type": "code",
   "outputs": [],
   "execution_count": null,
   "source": [
    "import torch.nn as nn\n",
    "import torch.optim as optim\n",
    "from torch.utils.data import DataLoader, random_split, Dataset\n",
    "from torchvision import models\n",
    "import torch\n",
    "import numpy as np\n",
    "import pandas as pd\n",
    "import os\n",
    "import nibabel as nib"
   ],
   "id": "3ed87d72452978cb"
  },
  {
   "metadata": {},
   "cell_type": "code",
   "outputs": [],
   "execution_count": null,
   "source": [
    "# Set device\n",
    "device = torch.device(\"cuda\" if torch.cuda.is_available() else \"cpu\")\n",
    "\n",
    "# Directories and file paths\n",
    "input_dir = \"path_to_input_folder\"\n",
    "output_dir = \"path_to_output_folder\"\n",
    "csv_file_path = os.path.join(output_dir, \"data_labels.csv\")\n",
    "\n",
    "# Ensure the output directory exists\n",
    "os.makedirs(output_dir, exist_ok=True)\n",
    "\n",
    "# Step 1: Convert NIfTI to NumPy\n",
    "for file_name in os.listdir(input_dir):\n",
    "    if file_name.endswith(\".nii.gz\"):\n",
    "        # Load the NIfTI file\n",
    "        nii_file_path = os.path.join(input_dir, file_name)\n",
    "        nii_data = nib.load(nii_file_path)\n",
    "        numpy_array = nii_data.get_fdata()\n",
    "\n",
    "        # Normalize the data\n",
    "        numpy_array = (numpy_array - np.min(numpy_array)) / (np.max(numpy_array) - np.min(numpy_array))\n",
    "\n",
    "        # Save the NumPy array\n",
    "        output_file_name = os.path.splitext(os.path.splitext(file_name)[0])[0] + \".npy\"\n",
    "        npy_file_path = os.path.join(output_dir, output_file_name)\n",
    "        np.save(npy_file_path, numpy_array)\n"
   ],
   "id": "4ea196ab16c4096c"
  },
  {
   "metadata": {},
   "cell_type": "markdown",
   "source": "",
   "id": "3688d2a97c5b84be"
  },
  {
   "metadata": {},
   "cell_type": "code",
   "outputs": [],
   "execution_count": null,
   "source": [
    "# Step 2: Define the custom Dataset class\n",
    "class NpyDataset(Dataset):\n",
    "    def __init__(self, csv_file):\n",
    "        self.data = pd.read_csv(csv_file)\n",
    "\n",
    "    def __len__(self):\n",
    "        return len(self.data)\n",
    "\n",
    "    def __getitem__(self, idx):\n",
    "        image_path = self.data.iloc[idx, 0]\n",
    "        label = self.data.iloc[idx, 1]\n",
    "        \n",
    "        # Load the image and convert to tensor\n",
    "        image = np.load(image_path)\n",
    "        image = torch.tensor(image, dtype=torch.float32).unsqueeze(0)  # Add channel dimension\n",
    "\n",
    "        label = torch.tensor(label, dtype=torch.long)\n",
    "\n",
    "        return image, label\n"
   ],
   "id": "39cbabcfca9b4003"
  },
  {
   "metadata": {},
   "cell_type": "markdown",
   "source": "",
   "id": "b1031cd04045af57"
  },
  {
   "metadata": {},
   "cell_type": "code",
   "outputs": [],
   "execution_count": null,
   "source": [
    "# Step 3: Split dataset and initialize DataLoaders\n",
    "dataset = NpyDataset(csv_file= csv_file_path)\n",
    "\n",
    "train_size = int(0.7 * len(dataset))\n",
    "val_size = len(dataset) - train_size\n",
    "\n",
    "train_dataset, val_dataset = random_split(dataset, [train_size, val_size])\n",
    "\n",
    "train_loader = DataLoader(train_dataset, batch_size=16, shuffle=True)\n",
    "val_loader = DataLoader(val_dataset, batch_size=16, shuffle=False)\n"
   ],
   "id": "349f1d91f29811bc"
  },
  {
   "metadata": {},
   "cell_type": "markdown",
   "source": "",
   "id": "a35db5bb8e9ebc9f"
  },
  {
   "metadata": {},
   "cell_type": "code",
   "outputs": [],
   "execution_count": null,
   "source": [
    "# Step 4: Define the model\n",
    "model = models.resnet18(pretrained=True)\n",
    "model.conv1 = nn.Conv2d(1, 64, kernel_size=(7, 7), stride=(2, 2), padding=(3, 3), bias=False)\n",
    "model.fc = nn.Linear(model.fc.in_features, 2)  # Assuming binary classification\n",
    "model = model.to(device)"
   ],
   "id": "773d08206f53254e"
  },
  {
   "metadata": {},
   "cell_type": "markdown",
   "source": "",
   "id": "8bfe03e595d117a"
  },
  {
   "metadata": {},
   "cell_type": "code",
   "outputs": [],
   "execution_count": null,
   "source": [
    "# Step 5: Define loss function and optimizer\n",
    "loss_fn = nn.CrossEntropyLoss()\n",
    "optimizer = optim.Adam(model.parameters(), lr=0.001)"
   ],
   "id": "4d5cebb24e4270c"
  },
  {
   "metadata": {},
   "cell_type": "markdown",
   "source": "",
   "id": "3b7c3e0dac300a39"
  },
  {
   "metadata": {},
   "cell_type": "code",
   "outputs": [],
   "execution_count": null,
   "source": [
    "# Step 6: Training loop\n",
    "def train_model():\n",
    "    model.train()\n",
    "    for epoch in range(10):  # 10 epochs\n",
    "        total_loss = 0\n",
    "        for images, labels in train_loader:\n",
    "            images, labels = images.to(device), labels.to(device)\n",
    "\n",
    "            # Forward pass\n",
    "            outputs = model(images)\n",
    "            loss = loss_fn(outputs, labels)\n",
    "\n",
    "            # Backward pass and optimization\n",
    "            optimizer.zero_grad()\n",
    "            loss.backward()\n",
    "            optimizer.step()\n",
    "\n",
    "            total_loss += loss.item()\n",
    "\n",
    "        print(f\"Epoch [{epoch+1}/10], Loss: {total_loss/len(train_loader):.4f}\")\n",
    "\n"
   ],
   "id": "9031d04bdfa0e669"
  },
  {
   "metadata": {},
   "cell_type": "markdown",
   "source": "",
   "id": "8bcb5379769aeb73"
  },
  {
   "metadata": {},
   "cell_type": "code",
   "outputs": [],
   "execution_count": null,
   "source": [
    "# Step 7: Validation loop\n",
    "def validate_model():\n",
    "    model.eval()\n",
    "    with torch.no_grad():\n",
    "        total_loss = 0\n",
    "        correct = 0\n",
    "        total = 0\n",
    "\n",
    "        for images, labels in val_loader:\n",
    "            images, labels = images.to(device), labels.to(device)\n",
    "            outputs = model(images)\n",
    "            loss = loss_fn(outputs, labels)\n",
    "            total_loss += loss.item()\n",
    "\n",
    "            _, predicted = torch.max(outputs, 1)\n",
    "            total += labels.size(0)\n",
    "            correct += (predicted == labels).sum().item()\n",
    "\n",
    "        print(f\"Validation Loss: {total_loss/len(val_loader):.4f}, Accuracy: {100 * correct/total:.2f}%\")\n"
   ],
   "id": "5258d696a992aa2"
  },
  {
   "metadata": {},
   "cell_type": "markdown",
   "source": "",
   "id": "85a78f8b444ade2e"
  },
  {
   "metadata": {},
   "cell_type": "code",
   "outputs": [],
   "execution_count": null,
   "source": [
    "# Run the training and validation\n",
    "train_model()\n",
    "validate_model()"
   ],
   "id": "b98a64dc3c6f2a15"
  }
 ],
 "metadata": {
  "kernelspec": {
   "display_name": "Python 3",
   "language": "python",
   "name": "python3"
  },
  "language_info": {
   "codemirror_mode": {
    "name": "ipython",
    "version": 2
   },
   "file_extension": ".py",
   "mimetype": "text/x-python",
   "name": "python",
   "nbconvert_exporter": "python",
   "pygments_lexer": "ipython2",
   "version": "2.7.6"
  }
 },
 "nbformat": 4,
 "nbformat_minor": 5
}
